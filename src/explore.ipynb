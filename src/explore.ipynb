{
    "cells": [
        {
            "cell_type": "markdown",
            "metadata": {},
            "source": [
                "# Explore here"
            ]
        },
        {
            "cell_type": "markdown",
            "metadata": {},
            "source": [
                "## Librerias a utilizar"
            ]
        },
        {
            "cell_type": "code",
            "execution_count": 1,
            "metadata": {},
            "outputs": [],
            "source": [
                "import pandas as pd\n",
                "import matplotlib.pyplot as plt\n",
                "import seaborn as sns\n",
                "from sklearn.linear_model import LinearRegression\n",
                "from sklearn.metrics import mean_squared_error, r2_score\n",
                "import scipy.stats as stats"
            ]
        },
        {
            "cell_type": "markdown",
            "metadata": {},
            "source": [
                "## Paso 1. Planteamiento del problema y recopilación de datos\n",
                "\n",
                "La importante compañía de seguros 4Geeks Insurance S.L. quiere calcular, en función de datos fisiológicos de sus clientes, cuál va a ser la prima (coste) que debe asumir cada uno de ellos. Para ello, ha reunido a un equipo completo de médicos y en función de datos de otras compañías y un estudio particular han logrado reunir un conjunto de datos para entrenar un modelo predictivo."
            ]
        },
        {
            "cell_type": "code",
            "execution_count": 2,
            "metadata": {},
            "outputs": [],
            "source": [
                "data_i=pd.read_csv('https://raw.githubusercontent.com/4GeeksAcademy/linear-regression-project-tutorial/main/medical_insurance_cost.csv')"
            ]
        },
        {
            "cell_type": "code",
            "execution_count": 3,
            "metadata": {},
            "outputs": [
                {
                    "data": {
                        "text/html": [
                            "<div>\n",
                            "<style scoped>\n",
                            "    .dataframe tbody tr th:only-of-type {\n",
                            "        vertical-align: middle;\n",
                            "    }\n",
                            "\n",
                            "    .dataframe tbody tr th {\n",
                            "        vertical-align: top;\n",
                            "    }\n",
                            "\n",
                            "    .dataframe thead th {\n",
                            "        text-align: right;\n",
                            "    }\n",
                            "</style>\n",
                            "<table border=\"1\" class=\"dataframe\">\n",
                            "  <thead>\n",
                            "    <tr style=\"text-align: right;\">\n",
                            "      <th></th>\n",
                            "      <th>age</th>\n",
                            "      <th>sex</th>\n",
                            "      <th>bmi</th>\n",
                            "      <th>children</th>\n",
                            "      <th>smoker</th>\n",
                            "      <th>region</th>\n",
                            "      <th>charges</th>\n",
                            "    </tr>\n",
                            "  </thead>\n",
                            "  <tbody>\n",
                            "    <tr>\n",
                            "      <th>0</th>\n",
                            "      <td>19</td>\n",
                            "      <td>female</td>\n",
                            "      <td>27.900</td>\n",
                            "      <td>0</td>\n",
                            "      <td>yes</td>\n",
                            "      <td>southwest</td>\n",
                            "      <td>16884.92400</td>\n",
                            "    </tr>\n",
                            "    <tr>\n",
                            "      <th>1</th>\n",
                            "      <td>18</td>\n",
                            "      <td>male</td>\n",
                            "      <td>33.770</td>\n",
                            "      <td>1</td>\n",
                            "      <td>no</td>\n",
                            "      <td>southeast</td>\n",
                            "      <td>1725.55230</td>\n",
                            "    </tr>\n",
                            "    <tr>\n",
                            "      <th>2</th>\n",
                            "      <td>28</td>\n",
                            "      <td>male</td>\n",
                            "      <td>33.000</td>\n",
                            "      <td>3</td>\n",
                            "      <td>no</td>\n",
                            "      <td>southeast</td>\n",
                            "      <td>4449.46200</td>\n",
                            "    </tr>\n",
                            "    <tr>\n",
                            "      <th>3</th>\n",
                            "      <td>33</td>\n",
                            "      <td>male</td>\n",
                            "      <td>22.705</td>\n",
                            "      <td>0</td>\n",
                            "      <td>no</td>\n",
                            "      <td>northwest</td>\n",
                            "      <td>21984.47061</td>\n",
                            "    </tr>\n",
                            "    <tr>\n",
                            "      <th>4</th>\n",
                            "      <td>32</td>\n",
                            "      <td>male</td>\n",
                            "      <td>28.880</td>\n",
                            "      <td>0</td>\n",
                            "      <td>no</td>\n",
                            "      <td>northwest</td>\n",
                            "      <td>3866.85520</td>\n",
                            "    </tr>\n",
                            "  </tbody>\n",
                            "</table>\n",
                            "</div>"
                        ],
                        "text/plain": [
                            "   age     sex     bmi  children smoker     region      charges\n",
                            "0   19  female  27.900         0    yes  southwest  16884.92400\n",
                            "1   18    male  33.770         1     no  southeast   1725.55230\n",
                            "2   28    male  33.000         3     no  southeast   4449.46200\n",
                            "3   33    male  22.705         0     no  northwest  21984.47061\n",
                            "4   32    male  28.880         0     no  northwest   3866.85520"
                        ]
                    },
                    "execution_count": 3,
                    "metadata": {},
                    "output_type": "execute_result"
                }
            ],
            "source": [
                "data_i.head()"
            ]
        },
        {
            "cell_type": "code",
            "execution_count": 4,
            "metadata": {},
            "outputs": [
                {
                    "name": "stdout",
                    "output_type": "stream",
                    "text": [
                        "<class 'pandas.core.frame.DataFrame'>\n",
                        "RangeIndex: 1338 entries, 0 to 1337\n",
                        "Data columns (total 7 columns):\n",
                        " #   Column    Non-Null Count  Dtype  \n",
                        "---  ------    --------------  -----  \n",
                        " 0   age       1338 non-null   int64  \n",
                        " 1   sex       1338 non-null   object \n",
                        " 2   bmi       1338 non-null   float64\n",
                        " 3   children  1338 non-null   int64  \n",
                        " 4   smoker    1338 non-null   object \n",
                        " 5   region    1338 non-null   object \n",
                        " 6   charges   1338 non-null   float64\n",
                        "dtypes: float64(2), int64(2), object(3)\n",
                        "memory usage: 73.3+ KB\n"
                    ]
                }
            ],
            "source": [
                "data_i.info()"
            ]
        },
        {
            "cell_type": "code",
            "execution_count": 5,
            "metadata": {},
            "outputs": [
                {
                    "data": {
                        "text/html": [
                            "<div>\n",
                            "<style scoped>\n",
                            "    .dataframe tbody tr th:only-of-type {\n",
                            "        vertical-align: middle;\n",
                            "    }\n",
                            "\n",
                            "    .dataframe tbody tr th {\n",
                            "        vertical-align: top;\n",
                            "    }\n",
                            "\n",
                            "    .dataframe thead th {\n",
                            "        text-align: right;\n",
                            "    }\n",
                            "</style>\n",
                            "<table border=\"1\" class=\"dataframe\">\n",
                            "  <thead>\n",
                            "    <tr style=\"text-align: right;\">\n",
                            "      <th></th>\n",
                            "      <th>age</th>\n",
                            "      <th>bmi</th>\n",
                            "      <th>children</th>\n",
                            "      <th>charges</th>\n",
                            "    </tr>\n",
                            "  </thead>\n",
                            "  <tbody>\n",
                            "    <tr>\n",
                            "      <th>count</th>\n",
                            "      <td>1338.000000</td>\n",
                            "      <td>1338.000000</td>\n",
                            "      <td>1338.000000</td>\n",
                            "      <td>1338.000000</td>\n",
                            "    </tr>\n",
                            "    <tr>\n",
                            "      <th>mean</th>\n",
                            "      <td>39.207025</td>\n",
                            "      <td>30.663397</td>\n",
                            "      <td>1.094918</td>\n",
                            "      <td>13270.422265</td>\n",
                            "    </tr>\n",
                            "    <tr>\n",
                            "      <th>std</th>\n",
                            "      <td>14.049960</td>\n",
                            "      <td>6.098187</td>\n",
                            "      <td>1.205493</td>\n",
                            "      <td>12110.011237</td>\n",
                            "    </tr>\n",
                            "    <tr>\n",
                            "      <th>min</th>\n",
                            "      <td>18.000000</td>\n",
                            "      <td>15.960000</td>\n",
                            "      <td>0.000000</td>\n",
                            "      <td>1121.873900</td>\n",
                            "    </tr>\n",
                            "    <tr>\n",
                            "      <th>25%</th>\n",
                            "      <td>27.000000</td>\n",
                            "      <td>26.296250</td>\n",
                            "      <td>0.000000</td>\n",
                            "      <td>4740.287150</td>\n",
                            "    </tr>\n",
                            "    <tr>\n",
                            "      <th>50%</th>\n",
                            "      <td>39.000000</td>\n",
                            "      <td>30.400000</td>\n",
                            "      <td>1.000000</td>\n",
                            "      <td>9382.033000</td>\n",
                            "    </tr>\n",
                            "    <tr>\n",
                            "      <th>75%</th>\n",
                            "      <td>51.000000</td>\n",
                            "      <td>34.693750</td>\n",
                            "      <td>2.000000</td>\n",
                            "      <td>16639.912515</td>\n",
                            "    </tr>\n",
                            "    <tr>\n",
                            "      <th>max</th>\n",
                            "      <td>64.000000</td>\n",
                            "      <td>53.130000</td>\n",
                            "      <td>5.000000</td>\n",
                            "      <td>63770.428010</td>\n",
                            "    </tr>\n",
                            "  </tbody>\n",
                            "</table>\n",
                            "</div>"
                        ],
                        "text/plain": [
                            "               age          bmi     children       charges\n",
                            "count  1338.000000  1338.000000  1338.000000   1338.000000\n",
                            "mean     39.207025    30.663397     1.094918  13270.422265\n",
                            "std      14.049960     6.098187     1.205493  12110.011237\n",
                            "min      18.000000    15.960000     0.000000   1121.873900\n",
                            "25%      27.000000    26.296250     0.000000   4740.287150\n",
                            "50%      39.000000    30.400000     1.000000   9382.033000\n",
                            "75%      51.000000    34.693750     2.000000  16639.912515\n",
                            "max      64.000000    53.130000     5.000000  63770.428010"
                        ]
                    },
                    "execution_count": 5,
                    "metadata": {},
                    "output_type": "execute_result"
                }
            ],
            "source": [
                "data_i.describe()"
            ]
        },
        {
            "cell_type": "code",
            "execution_count": 6,
            "metadata": {},
            "outputs": [
                {
                    "data": {
                        "text/plain": [
                            "Index(['age', 'sex', 'bmi', 'children', 'smoker', 'region', 'charges'], dtype='object')"
                        ]
                    },
                    "execution_count": 6,
                    "metadata": {},
                    "output_type": "execute_result"
                }
            ],
            "source": [
                "data_i.columns"
            ]
        },
        {
            "cell_type": "code",
            "execution_count": 7,
            "metadata": {},
            "outputs": [
                {
                    "data": {
                        "text/plain": [
                            "region\n",
                            "southeast    364\n",
                            "southwest    325\n",
                            "northwest    325\n",
                            "northeast    324\n",
                            "Name: count, dtype: int64"
                        ]
                    },
                    "execution_count": 7,
                    "metadata": {},
                    "output_type": "execute_result"
                }
            ],
            "source": [
                "data_i.region.value_counts()"
            ]
        },
        {
            "cell_type": "markdown",
            "metadata": {},
            "source": [
                "## Paso 2. Exploracion y limpieza de datos\n",
                "\n",
                "- El Dataset esta conformado por 1337 valores, 7 variables, incluyendo la clase a predecir (charges), las predictoras estan conformadas por: age, sex, bmi, children, smoker, region. No presenta valores nulos, solo tiene un registro duplicado, el cual fue eliminado. Solo queda por revisar que variables conformaran el analisis y revisar la presencia de valores atipicos.\n",
                "\n",
                "- La distribucion de los tipos de variables es la siguiente:\n",
                "    - age       int64  \n",
                "    - sex       object \n",
                "    - bmi       float64\n",
                "    - children  int64  \n",
                "    - smoker    object \n",
                "    - region    object \n",
                "    - charges   float64\n",
                "\n",
                "- Se van a excluir del Dataset para el analisis las variables region y children, considero que no tienen un peso importante en la clase a predecir. Por ejemplo, una simple exploracion de la variable **charges Vs children**, muestra como los valores promedios de la variable charges son muy parecidos indistintamente de la cantidad de hijos, lo cual denota una baja correlacion de la variables. Analisis similar puede hacerse con la **variable region**."
            ]
        },
        {
            "cell_type": "code",
            "execution_count": 8,
            "metadata": {},
            "outputs": [
                {
                    "data": {
                        "text/plain": [
                            "<Axes: ylabel='charges'>"
                        ]
                    },
                    "execution_count": 8,
                    "metadata": {},
                    "output_type": "execute_result"
                },
                {
                    "data": {
                        "image/png": "[encoded data removed]",
                        "text/plain": [
                            "<Figure size 640x480 with 1 Axes>"
                        ]
                    },
                    "metadata": {},
                    "output_type": "display_data"
                }
            ],
            "source": [
                "sns.barplot(data=data_i,y='charges',hue='children',palette='pastel')"
            ]
        },
        {
            "cell_type": "code",
            "execution_count": 9,
            "metadata": {},
            "outputs": [
                {
                    "data": {
                        "text/plain": [
                            "Index(['age', 'sex', 'bmi', 'children', 'smoker', 'region', 'charges'], dtype='object')"
                        ]
                    },
                    "execution_count": 9,
                    "metadata": {},
                    "output_type": "execute_result"
                }
            ],
            "source": [
                "data_i.columns"
            ]
        },
        {
            "cell_type": "code",
            "execution_count": 10,
            "metadata": {},
            "outputs": [],
            "source": [
                "dp=data_i[data_i.duplicated(keep=False)]\n",
                "data_i.drop_duplicates(inplace=True)"
            ]
        },
        {
            "cell_type": "code",
            "execution_count": 11,
            "metadata": {},
            "outputs": [
                {
                    "data": {
                        "text/plain": [
                            "age         0\n",
                            "sex         0\n",
                            "bmi         0\n",
                            "children    0\n",
                            "smoker      0\n",
                            "region      0\n",
                            "charges     0\n",
                            "dtype: int64"
                        ]
                    },
                    "execution_count": 11,
                    "metadata": {},
                    "output_type": "execute_result"
                }
            ],
            "source": [
                "data_i.isnull().sum()"
            ]
        },
        {
            "cell_type": "code",
            "execution_count": 12,
            "metadata": {},
            "outputs": [
                {
                    "name": "stdout",
                    "output_type": "stream",
                    "text": [
                        "<class 'pandas.core.frame.DataFrame'>\n",
                        "Index: 1337 entries, 0 to 1337\n",
                        "Data columns (total 7 columns):\n",
                        " #   Column    Non-Null Count  Dtype  \n",
                        "---  ------    --------------  -----  \n",
                        " 0   age       1337 non-null   int64  \n",
                        " 1   sex       1337 non-null   object \n",
                        " 2   bmi       1337 non-null   float64\n",
                        " 3   children  1337 non-null   int64  \n",
                        " 4   smoker    1337 non-null   object \n",
                        " 5   region    1337 non-null   object \n",
                        " 6   charges   1337 non-null   float64\n",
                        "dtypes: float64(2), int64(2), object(3)\n",
                        "memory usage: 83.6+ KB\n"
                    ]
                }
            ],
            "source": [
                "data_i.info()"
            ]
        },
        {
            "cell_type": "markdown",
            "metadata": {},
            "source": [
                "### DataSet Seleccionado para realizar los analisis"
            ]
        },
        {
            "cell_type": "code",
            "execution_count": 13,
            "metadata": {},
            "outputs": [
                {
                    "data": {
                        "text/plain": [
                            "Index(['age', 'sex', 'bmi', 'smoker', 'charges'], dtype='object')"
                        ]
                    },
                    "execution_count": 13,
                    "metadata": {},
                    "output_type": "execute_result"
                }
            ],
            "source": [
                "data_i.drop(axis=1,columns=['region','children'],inplace=True)\n",
                "data_i.columns"
            ]
        },
        {
            "cell_type": "code",
            "execution_count": 14,
            "metadata": {},
            "outputs": [
                {
                    "name": "stdout",
                    "output_type": "stream",
                    "text": [
                        "<class 'pandas.core.frame.DataFrame'>\n",
                        "Index: 1337 entries, 0 to 1337\n",
                        "Data columns (total 5 columns):\n",
                        " #   Column   Non-Null Count  Dtype  \n",
                        "---  ------   --------------  -----  \n",
                        " 0   age      1337 non-null   int64  \n",
                        " 1   sex      1337 non-null   object \n",
                        " 2   bmi      1337 non-null   float64\n",
                        " 3   smoker   1337 non-null   object \n",
                        " 4   charges  1337 non-null   float64\n",
                        "dtypes: float64(2), int64(1), object(2)\n",
                        "memory usage: 62.7+ KB\n"
                    ]
                }
            ],
            "source": [
                "data_i.info()"
            ]
        },
        {
            "cell_type": "markdown",
            "metadata": {},
            "source": [
                "## Paso 3. Análisis de variables univariante"
            ]
        },
        {
            "cell_type": "markdown",
            "metadata": {},
            "source": [
                "### Análisis sobre variables categóricas y numericas\n",
                "\n",
                "A continuacion se muestran histogramas para las variables: host_name, neighbourhood_group, neighbourhood y room_type.\n",
                "\n",
                "el analisis de los histogramas por cada variable arroja la siguiente informacion:\n",
                "\n",
                "- <span style=\"color: magenta;\">sex:</span> sex es una variable con las clases balanceadas (femenino 662 valores y masculino 675 valores).\n",
                "- <span style=\"color: magenta;\">smoker:</span> smoker tiene un 20,5% en la clase 'yes' y un 79,5% en la clase 'no'.\n",
                "- <span style=\"color: magenta;\">age:</span> El 75% de los valores de age estan entre 18 y 51 años, no parecen haber valores atipicos.  \n",
                "- <span style=\"color: magenta;\">bmi:</span> El indice de masa corporal tiene una media, moda y mediana muy parecidas, aldedor del valor de 30, lo que conlleva a pensar que los datos pudiesen tener una distribucion normal, lo mismo puede apreciarse en un grafico Q-Q Plot. Deben revisarse valores atipicos.\n",
                "- <span style=\"color: magenta;\">charges:</span>La variable clase charges, tiene un sesgo positivo (mediana < media), deben revisarse valores atipicos, el 75% de los datos se ubican entre 1121.8 y 16657.7; sin embargo, se tienen valores con magnitudes superiores a los 60.000.\n"
            ]
        },
        {
            "cell_type": "markdown",
            "metadata": {},
            "source": [
                "### Graficos Variables Categoricas y Numericas"
            ]
        },
        {
            "cell_type": "code",
            "execution_count": 15,
            "metadata": {},
            "outputs": [
                {
                    "data": {
                        "image/png": "[encoded data removed]",
                        "text/plain": [
                            "<Figure size 1500x1000 with 6 Axes>"
                        ]
                    },
                    "metadata": {},
                    "output_type": "display_data"
                }
            ],
            "source": [
                "fig, axis = plt.subplots(3,2, figsize = (15, 10))\n",
                "\n",
                "# Crear un histograma múltiple\n",
                "sns.countplot(ax = axis[0,0], data = data_i, x = \"sex\", hue='sex')\n",
                "axis[0,0].bar_label(axis[0,0].containers[0])\n",
                "axis[0,0].bar_label(axis[0,0].containers[1])\n",
                "\n",
                "sns.countplot(ax = axis[0,1], data = data_i, x = \"smoker\", hue='smoker').set(ylabel = None)\n",
                "axis[0,1].bar_label(axis[0,1].containers[0])\n",
                "axis[0,1].bar_label(axis[0,1].containers[1])\n",
                "\n",
                "sns.histplot(ax = axis[1,0], data = data_i, x = \"age\", bins=(15,25,35,45,55,65)).set(ylabel = None)\n",
                "axis[1,0].bar_label(axis[1,0].containers[0])\n",
                "#axis[1,0].bar_label(axis[1,0].containers[1])\n",
                "\n",
                "sns.histplot(ax = axis[1,1], data = data_i, x = \"bmi\").set(ylabel = None)\n",
                "axis[1,1].bar_label(axis[1,1].containers[0])\n",
                "\n",
                "sns.kdeplot(ax = axis[2,0], data = data_i.charges,fill=True).set(ylabel = None)\n",
                "#axis[2,0].bar_label(axis[2,0].containers[0])\n",
                "\n",
                "sns.histplot(ax = axis[2,1], data = data_i, x='charges').set(ylabel = None)\n",
                "#axis[2,0].bar_label(axis[2,0].containers[0])\n",
                "\n",
                "\n",
                "#sns.kdeplot(data=iris_data['Petal Length (cm)'],fill=True)\n",
                "# Ajustar el layout\n",
                "plt.tight_layout()\n",
                "\n",
                "# Mostrar el plot\n",
                "plt.show()"
            ]
        },
        {
            "cell_type": "code",
            "execution_count": 16,
            "metadata": {},
            "outputs": [
                {
                    "data": {
                        "text/plain": [
                            "count     1337.000000\n",
                            "mean     13279.121487\n",
                            "std      12110.359656\n",
                            "min       1121.873900\n",
                            "25%       4746.344000\n",
                            "50%       9386.161300\n",
                            "75%      16657.717450\n",
                            "max      63770.428010\n",
                            "Name: charges, dtype: float64"
                        ]
                    },
                    "execution_count": 16,
                    "metadata": {},
                    "output_type": "execute_result"
                }
            ],
            "source": [
                "data_i.charges.describe()"
            ]
        },
        {
            "cell_type": "code",
            "execution_count": 17,
            "metadata": {},
            "outputs": [
                {
                    "data": {
                        "text/plain": [
                            "0        1121.87390\n",
                            "1        1131.50660\n",
                            "2        1135.94070\n",
                            "3        1136.39940\n",
                            "4        1137.01100\n",
                            "           ...     \n",
                            "1332    55135.40209\n",
                            "1333    58571.07448\n",
                            "1334    60021.39897\n",
                            "1335    62592.87309\n",
                            "1336    63770.42801\n",
                            "Name: charges, Length: 1337, dtype: float64"
                        ]
                    },
                    "execution_count": 17,
                    "metadata": {},
                    "output_type": "execute_result"
                }
            ],
            "source": [
                "data_i.charges.mode()"
            ]
        },
        {
            "cell_type": "code",
            "execution_count": 18,
            "metadata": {},
            "outputs": [
                {
                    "data": {
                        "text/plain": [
                            "count    1337.000000\n",
                            "mean       39.222139\n",
                            "std        14.044333\n",
                            "min        18.000000\n",
                            "25%        27.000000\n",
                            "50%        39.000000\n",
                            "75%        51.000000\n",
                            "max        64.000000\n",
                            "Name: age, dtype: float64"
                        ]
                    },
                    "execution_count": 18,
                    "metadata": {},
                    "output_type": "execute_result"
                }
            ],
            "source": [
                "data_i.age.describe()"
            ]
        },
        {
            "cell_type": "code",
            "execution_count": 19,
            "metadata": {},
            "outputs": [
                {
                    "data": {
                        "text/plain": [
                            "count    1337.000000\n",
                            "mean       30.663452\n",
                            "std         6.100468\n",
                            "min        15.960000\n",
                            "25%        26.290000\n",
                            "50%        30.400000\n",
                            "75%        34.700000\n",
                            "max        53.130000\n",
                            "Name: bmi, dtype: float64"
                        ]
                    },
                    "execution_count": 19,
                    "metadata": {},
                    "output_type": "execute_result"
                }
            ],
            "source": [
                "data_i.bmi.describe()"
            ]
        },
        {
            "cell_type": "code",
            "execution_count": 20,
            "metadata": {},
            "outputs": [
                {
                    "data": {
                        "text/plain": [
                            "0    32.3\n",
                            "Name: bmi, dtype: float64"
                        ]
                    },
                    "execution_count": 20,
                    "metadata": {},
                    "output_type": "execute_result"
                }
            ],
            "source": [
                "data_i.bmi.mode()"
            ]
        },
        {
            "cell_type": "code",
            "execution_count": 21,
            "metadata": {},
            "outputs": [
                {
                    "data": {
                        "image/png": "[encoded data removed]",
                        "text/plain": [
                            "<Figure size 640x480 with 1 Axes>"
                        ]
                    },
                    "metadata": {},
                    "output_type": "display_data"
                }
            ],
            "source": [
                "stats.probplot(data_i.bmi, dist=\"norm\", plot=plt)\n",
                "plt.title('Q-Q Plot')\n",
                "plt.show()"
            ]
        },
        {
            "cell_type": "markdown",
            "metadata": {},
            "source": [
                "## Paso 4. Análisis de variables multivariante\n",
                "\n",
                "Se va a comparar la variable objetivo **'charges'** con las variables numericas y categoricas predictoras: age, bmi, sex y smoker. Se procedera a factorizar las variables categoricas para poder determinar su correlacion con la variable clase.\n",
                "\n",
                "**Principales conclusiones:**\n",
                "- En los graficos tipo barplot que se hicieron se observa como las variables **(age, bmi y smoker)** estan relacionadas con el valor de la prima, en relacion al sexo, se observa una cierta correlacion, se debe completar el analisis con la matriz de correlaciones. En el grafico de charges Vs bmi en el rango de 50 - 60, se observo un valor promedio de la prima para los unicos tres valores del rango, muy elevado, dado que se tiene un monto de 44501, se deben revisar los atipicos para la variable clase; sin embargo, esta persona es fumadora, pero tiene 22 años y es de sexo masculino, todo apunta a un valor atipico. \n",
                "\n",
                "- La variable que mas se relaciona con la **clase charges**, es **smoker**, con una correlacion inversa (negativa) de -0.79, bastante alta. En relacion a las otras variables, en orden de importancia siguen age y bmi, con valores medios de 0.30 y 0.20, respectivamente. La variable sexo muestra una correlacion baja de 0.06 con la clase a predecir, por lo cual, he decidido eliminarla del analisis."
            ]
        },
        {
            "cell_type": "code",
            "execution_count": 22,
            "metadata": {},
            "outputs": [],
            "source": [
                "data_i['age_range']=pd.cut(data_i['age'],bins=[0,20,30,40,50,60,70],\n",
                "                labels=['18-20 a','20-30 a','30-40 a','40-50 a','50-60 a','60-70 a'],include_lowest=True)"
            ]
        },
        {
            "cell_type": "code",
            "execution_count": 23,
            "metadata": {},
            "outputs": [],
            "source": [
                "data_i['bmi_range']=pd.cut(data_i['bmi'],bins=[0,20,30,40,50,60],\n",
                "                labels=['15-20','20-30','30-40','40-50','50-60'],include_lowest=True)"
            ]
        },
        {
            "cell_type": "code",
            "execution_count": 24,
            "metadata": {},
            "outputs": [
                {
                    "data": {
                        "text/html": [
                            "<div>\n",
                            "<style scoped>\n",
                            "    .dataframe tbody tr th:only-of-type {\n",
                            "        vertical-align: middle;\n",
                            "    }\n",
                            "\n",
                            "    .dataframe tbody tr th {\n",
                            "        vertical-align: top;\n",
                            "    }\n",
                            "\n",
                            "    .dataframe thead th {\n",
                            "        text-align: right;\n",
                            "    }\n",
                            "</style>\n",
                            "<table border=\"1\" class=\"dataframe\">\n",
                            "  <thead>\n",
                            "    <tr style=\"text-align: right;\">\n",
                            "      <th></th>\n",
                            "      <th>age</th>\n",
                            "      <th>sex</th>\n",
                            "      <th>bmi</th>\n",
                            "      <th>smoker</th>\n",
                            "      <th>charges</th>\n",
                            "      <th>age_range</th>\n",
                            "      <th>bmi_range</th>\n",
                            "    </tr>\n",
                            "  </thead>\n",
                            "  <tbody>\n",
                            "    <tr>\n",
                            "      <th>847</th>\n",
                            "      <td>23</td>\n",
                            "      <td>male</td>\n",
                            "      <td>50.38</td>\n",
                            "      <td>no</td>\n",
                            "      <td>2438.0552</td>\n",
                            "      <td>20-30 a</td>\n",
                            "      <td>50-60</td>\n",
                            "    </tr>\n",
                            "    <tr>\n",
                            "      <th>1047</th>\n",
                            "      <td>22</td>\n",
                            "      <td>male</td>\n",
                            "      <td>52.58</td>\n",
                            "      <td>yes</td>\n",
                            "      <td>44501.3982</td>\n",
                            "      <td>20-30 a</td>\n",
                            "      <td>50-60</td>\n",
                            "    </tr>\n",
                            "    <tr>\n",
                            "      <th>1317</th>\n",
                            "      <td>18</td>\n",
                            "      <td>male</td>\n",
                            "      <td>53.13</td>\n",
                            "      <td>no</td>\n",
                            "      <td>1163.4627</td>\n",
                            "      <td>18-20 a</td>\n",
                            "      <td>50-60</td>\n",
                            "    </tr>\n",
                            "  </tbody>\n",
                            "</table>\n",
                            "</div>"
                        ],
                        "text/plain": [
                            "      age   sex    bmi smoker     charges age_range bmi_range\n",
                            "847    23  male  50.38     no   2438.0552   20-30 a     50-60\n",
                            "1047   22  male  52.58    yes  44501.3982   20-30 a     50-60\n",
                            "1317   18  male  53.13     no   1163.4627   18-20 a     50-60"
                        ]
                    },
                    "execution_count": 24,
                    "metadata": {},
                    "output_type": "execute_result"
                }
            ],
            "source": [
                "data_i.loc[data_i.bmi>50]"
            ]
        },
        {
            "cell_type": "code",
            "execution_count": 25,
            "metadata": {},
            "outputs": [
                {
                    "data": {
                        "text/html": [
                            "<div>\n",
                            "<style scoped>\n",
                            "    .dataframe tbody tr th:only-of-type {\n",
                            "        vertical-align: middle;\n",
                            "    }\n",
                            "\n",
                            "    .dataframe tbody tr th {\n",
                            "        vertical-align: top;\n",
                            "    }\n",
                            "\n",
                            "    .dataframe thead th {\n",
                            "        text-align: right;\n",
                            "    }\n",
                            "</style>\n",
                            "<table border=\"1\" class=\"dataframe\">\n",
                            "  <thead>\n",
                            "    <tr style=\"text-align: right;\">\n",
                            "      <th></th>\n",
                            "      <th>age</th>\n",
                            "      <th>sex</th>\n",
                            "      <th>bmi</th>\n",
                            "      <th>smoker</th>\n",
                            "      <th>charges</th>\n",
                            "      <th>age_range</th>\n",
                            "      <th>bmi_range</th>\n",
                            "    </tr>\n",
                            "  </thead>\n",
                            "  <tbody>\n",
                            "    <tr>\n",
                            "      <th>66</th>\n",
                            "      <td>61</td>\n",
                            "      <td>female</td>\n",
                            "      <td>39.100</td>\n",
                            "      <td>no</td>\n",
                            "      <td>14235.07200</td>\n",
                            "      <td>60-70 a</td>\n",
                            "      <td>30-40</td>\n",
                            "    </tr>\n",
                            "    <tr>\n",
                            "      <th>103</th>\n",
                            "      <td>61</td>\n",
                            "      <td>female</td>\n",
                            "      <td>29.920</td>\n",
                            "      <td>yes</td>\n",
                            "      <td>30942.19180</td>\n",
                            "      <td>60-70 a</td>\n",
                            "      <td>20-30</td>\n",
                            "    </tr>\n",
                            "    <tr>\n",
                            "      <th>131</th>\n",
                            "      <td>61</td>\n",
                            "      <td>female</td>\n",
                            "      <td>22.040</td>\n",
                            "      <td>no</td>\n",
                            "      <td>13616.35860</td>\n",
                            "      <td>60-70 a</td>\n",
                            "      <td>20-30</td>\n",
                            "    </tr>\n",
                            "    <tr>\n",
                            "      <th>190</th>\n",
                            "      <td>61</td>\n",
                            "      <td>male</td>\n",
                            "      <td>31.570</td>\n",
                            "      <td>no</td>\n",
                            "      <td>12557.60530</td>\n",
                            "      <td>60-70 a</td>\n",
                            "      <td>30-40</td>\n",
                            "    </tr>\n",
                            "    <tr>\n",
                            "      <th>330</th>\n",
                            "      <td>61</td>\n",
                            "      <td>female</td>\n",
                            "      <td>36.385</td>\n",
                            "      <td>yes</td>\n",
                            "      <td>48517.56315</td>\n",
                            "      <td>60-70 a</td>\n",
                            "      <td>30-40</td>\n",
                            "    </tr>\n",
                            "    <tr>\n",
                            "      <th>332</th>\n",
                            "      <td>61</td>\n",
                            "      <td>female</td>\n",
                            "      <td>31.160</td>\n",
                            "      <td>no</td>\n",
                            "      <td>13429.03540</td>\n",
                            "      <td>60-70 a</td>\n",
                            "      <td>30-40</td>\n",
                            "    </tr>\n",
                            "    <tr>\n",
                            "      <th>370</th>\n",
                            "      <td>61</td>\n",
                            "      <td>female</td>\n",
                            "      <td>21.090</td>\n",
                            "      <td>no</td>\n",
                            "      <td>13415.03810</td>\n",
                            "      <td>60-70 a</td>\n",
                            "      <td>20-30</td>\n",
                            "    </tr>\n",
                            "    <tr>\n",
                            "      <th>421</th>\n",
                            "      <td>61</td>\n",
                            "      <td>male</td>\n",
                            "      <td>35.860</td>\n",
                            "      <td>yes</td>\n",
                            "      <td>46599.10840</td>\n",
                            "      <td>60-70 a</td>\n",
                            "      <td>30-40</td>\n",
                            "    </tr>\n",
                            "    <tr>\n",
                            "      <th>475</th>\n",
                            "      <td>61</td>\n",
                            "      <td>male</td>\n",
                            "      <td>28.310</td>\n",
                            "      <td>yes</td>\n",
                            "      <td>28868.66390</td>\n",
                            "      <td>60-70 a</td>\n",
                            "      <td>20-30</td>\n",
                            "    </tr>\n",
                            "    <tr>\n",
                            "      <th>491</th>\n",
                            "      <td>61</td>\n",
                            "      <td>female</td>\n",
                            "      <td>25.080</td>\n",
                            "      <td>no</td>\n",
                            "      <td>24513.09126</td>\n",
                            "      <td>60-70 a</td>\n",
                            "      <td>20-30</td>\n",
                            "    </tr>\n",
                            "    <tr>\n",
                            "      <th>493</th>\n",
                            "      <td>61</td>\n",
                            "      <td>male</td>\n",
                            "      <td>43.400</td>\n",
                            "      <td>no</td>\n",
                            "      <td>12574.04900</td>\n",
                            "      <td>60-70 a</td>\n",
                            "      <td>40-50</td>\n",
                            "    </tr>\n",
                            "    <tr>\n",
                            "      <th>588</th>\n",
                            "      <td>61</td>\n",
                            "      <td>female</td>\n",
                            "      <td>35.910</td>\n",
                            "      <td>no</td>\n",
                            "      <td>13635.63790</td>\n",
                            "      <td>60-70 a</td>\n",
                            "      <td>30-40</td>\n",
                            "    </tr>\n",
                            "    <tr>\n",
                            "      <th>642</th>\n",
                            "      <td>61</td>\n",
                            "      <td>male</td>\n",
                            "      <td>33.915</td>\n",
                            "      <td>no</td>\n",
                            "      <td>13143.86485</td>\n",
                            "      <td>60-70 a</td>\n",
                            "      <td>30-40</td>\n",
                            "    </tr>\n",
                            "    <tr>\n",
                            "      <th>770</th>\n",
                            "      <td>61</td>\n",
                            "      <td>male</td>\n",
                            "      <td>36.100</td>\n",
                            "      <td>no</td>\n",
                            "      <td>27941.28758</td>\n",
                            "      <td>60-70 a</td>\n",
                            "      <td>30-40</td>\n",
                            "    </tr>\n",
                            "    <tr>\n",
                            "      <th>851</th>\n",
                            "      <td>61</td>\n",
                            "      <td>male</td>\n",
                            "      <td>32.300</td>\n",
                            "      <td>no</td>\n",
                            "      <td>14119.62000</td>\n",
                            "      <td>60-70 a</td>\n",
                            "      <td>30-40</td>\n",
                            "    </tr>\n",
                            "    <tr>\n",
                            "      <th>868</th>\n",
                            "      <td>61</td>\n",
                            "      <td>male</td>\n",
                            "      <td>23.655</td>\n",
                            "      <td>no</td>\n",
                            "      <td>13129.60345</td>\n",
                            "      <td>60-70 a</td>\n",
                            "      <td>20-30</td>\n",
                            "    </tr>\n",
                            "    <tr>\n",
                            "      <th>895</th>\n",
                            "      <td>61</td>\n",
                            "      <td>female</td>\n",
                            "      <td>44.000</td>\n",
                            "      <td>no</td>\n",
                            "      <td>13063.88300</td>\n",
                            "      <td>60-70 a</td>\n",
                            "      <td>40-50</td>\n",
                            "    </tr>\n",
                            "    <tr>\n",
                            "      <th>918</th>\n",
                            "      <td>61</td>\n",
                            "      <td>female</td>\n",
                            "      <td>28.200</td>\n",
                            "      <td>no</td>\n",
                            "      <td>13041.92100</td>\n",
                            "      <td>60-70 a</td>\n",
                            "      <td>20-30</td>\n",
                            "    </tr>\n",
                            "    <tr>\n",
                            "      <th>1012</th>\n",
                            "      <td>61</td>\n",
                            "      <td>female</td>\n",
                            "      <td>33.330</td>\n",
                            "      <td>no</td>\n",
                            "      <td>36580.28216</td>\n",
                            "      <td>60-70 a</td>\n",
                            "      <td>30-40</td>\n",
                            "    </tr>\n",
                            "    <tr>\n",
                            "      <th>1034</th>\n",
                            "      <td>61</td>\n",
                            "      <td>male</td>\n",
                            "      <td>38.380</td>\n",
                            "      <td>no</td>\n",
                            "      <td>12950.07120</td>\n",
                            "      <td>60-70 a</td>\n",
                            "      <td>30-40</td>\n",
                            "    </tr>\n",
                            "    <tr>\n",
                            "      <th>1284</th>\n",
                            "      <td>61</td>\n",
                            "      <td>male</td>\n",
                            "      <td>36.300</td>\n",
                            "      <td>yes</td>\n",
                            "      <td>47403.88000</td>\n",
                            "      <td>60-70 a</td>\n",
                            "      <td>30-40</td>\n",
                            "    </tr>\n",
                            "    <tr>\n",
                            "      <th>1325</th>\n",
                            "      <td>61</td>\n",
                            "      <td>male</td>\n",
                            "      <td>33.535</td>\n",
                            "      <td>no</td>\n",
                            "      <td>13143.33665</td>\n",
                            "      <td>60-70 a</td>\n",
                            "      <td>30-40</td>\n",
                            "    </tr>\n",
                            "    <tr>\n",
                            "      <th>1337</th>\n",
                            "      <td>61</td>\n",
                            "      <td>female</td>\n",
                            "      <td>29.070</td>\n",
                            "      <td>yes</td>\n",
                            "      <td>29141.36030</td>\n",
                            "      <td>60-70 a</td>\n",
                            "      <td>20-30</td>\n",
                            "    </tr>\n",
                            "  </tbody>\n",
                            "</table>\n",
                            "</div>"
                        ],
                        "text/plain": [
                            "      age     sex     bmi smoker      charges age_range bmi_range\n",
                            "66     61  female  39.100     no  14235.07200   60-70 a     30-40\n",
                            "103    61  female  29.920    yes  30942.19180   60-70 a     20-30\n",
                            "131    61  female  22.040     no  13616.35860   60-70 a     20-30\n",
                            "190    61    male  31.570     no  12557.60530   60-70 a     30-40\n",
                            "330    61  female  36.385    yes  48517.56315   60-70 a     30-40\n",
                            "332    61  female  31.160     no  13429.03540   60-70 a     30-40\n",
                            "370    61  female  21.090     no  13415.03810   60-70 a     20-30\n",
                            "421    61    male  35.860    yes  46599.10840   60-70 a     30-40\n",
                            "475    61    male  28.310    yes  28868.66390   60-70 a     20-30\n",
                            "491    61  female  25.080     no  24513.09126   60-70 a     20-30\n",
                            "493    61    male  43.400     no  12574.04900   60-70 a     40-50\n",
                            "588    61  female  35.910     no  13635.63790   60-70 a     30-40\n",
                            "642    61    male  33.915     no  13143.86485   60-70 a     30-40\n",
                            "770    61    male  36.100     no  27941.28758   60-70 a     30-40\n",
                            "851    61    male  32.300     no  14119.62000   60-70 a     30-40\n",
                            "868    61    male  23.655     no  13129.60345   60-70 a     20-30\n",
                            "895    61  female  44.000     no  13063.88300   60-70 a     40-50\n",
                            "918    61  female  28.200     no  13041.92100   60-70 a     20-30\n",
                            "1012   61  female  33.330     no  36580.28216   60-70 a     30-40\n",
                            "1034   61    male  38.380     no  12950.07120   60-70 a     30-40\n",
                            "1284   61    male  36.300    yes  47403.88000   60-70 a     30-40\n",
                            "1325   61    male  33.535     no  13143.33665   60-70 a     30-40\n",
                            "1337   61  female  29.070    yes  29141.36030   60-70 a     20-30"
                        ]
                    },
                    "execution_count": 25,
                    "metadata": {},
                    "output_type": "execute_result"
                }
            ],
            "source": [
                "data_i.loc[data_i.age==61]"
            ]
        },
        {
            "cell_type": "markdown",
            "metadata": {},
            "source": [
                "### Graficos Variable Clase Versus Predictoras"
            ]
        },
        {
            "cell_type": "code",
            "execution_count": 26,
            "metadata": {},
            "outputs": [
                {
                    "data": {
                        "image/png": "[encoded data removed]",
                        "text/plain": [
                            "<Figure size 1500x1500 with 4 Axes>"
                        ]
                    },
                    "metadata": {},
                    "output_type": "display_data"
                }
            ],
            "source": [
                "fig, axis = plt.subplots(2,2, figsize = (15, 15))\n",
                "\n",
                "sns.barplot(ax = axis[0, 0], data = data_i, y ='charges',x='age_range', hue = 'age_range',palette='pastel')\n",
                "sns.barplot(ax = axis[0, 1], data = data_i, y = 'charges',x='bmi_range', hue = \"bmi_range\",palette='pastel')\n",
                "\n",
                "sns.barplot(ax = axis[1, 0],data=data_i,y='charges',x='sex', hue='sex' )\n",
                "sns.barplot(ax = axis[1,1],data=data_i,y = 'charges',x='smoker',hue='smoker' )\n",
                "\n",
                "\n",
                "plt.tight_layout()\n",
                "#fig.delaxes(axis[2,1])\n",
                "#fig.delaxes(axis[2,2])\n",
                "\n",
                "plt.show()"
            ]
        },
        {
            "cell_type": "markdown",
            "metadata": {},
            "source": [
                "### Factorizacion de Variables Categoricas"
            ]
        },
        {
            "cell_type": "code",
            "execution_count": 27,
            "metadata": {},
            "outputs": [],
            "source": [
                "data_i['sex_f']=pd.factorize(data_i['sex'])[0]\n",
                "data_i['smoker_f']=pd.factorize(data_i['smoker'])[0]\n"
            ]
        },
        {
            "cell_type": "code",
            "execution_count": 28,
            "metadata": {},
            "outputs": [
                {
                    "data": {
                        "text/plain": [
                            "Index(['age', 'sex', 'bmi', 'smoker', 'charges', 'age_range', 'bmi_range',\n",
                            "       'sex_f', 'smoker_f'],\n",
                            "      dtype='object')"
                        ]
                    },
                    "execution_count": 28,
                    "metadata": {},
                    "output_type": "execute_result"
                }
            ],
            "source": [
                "data_i.columns"
            ]
        },
        {
            "cell_type": "markdown",
            "metadata": {},
            "source": [
                "### Matriz de Correlacion"
            ]
        },
        {
            "cell_type": "code",
            "execution_count": 29,
            "metadata": {},
            "outputs": [
                {
                    "data": {
                        "image/png": "[encoded data removed]",
                        "text/plain": [
                            "<Figure size 1000x600 with 2 Axes>"
                        ]
                    },
                    "metadata": {},
                    "output_type": "display_data"
                }
            ],
            "source": [
                "fig, axis = plt.subplots(figsize = (10, 6))\n",
                "matriz_corr=data_i[['charges','age','bmi','sex_f','smoker_f']].corr()\n",
                "#print(matriz_corr)\n",
                "sns.heatmap(matriz_corr, annot = True, fmt = \".2f\")\n",
                "\n",
                "plt.tight_layout()\n",
                "\n",
                "plt.show()"
            ]
        },
        {
            "cell_type": "markdown",
            "metadata": {},
            "source": [
                "## Paso 5. Ingenieria de Características\n",
                "\n",
                "Se estaran revisando valores atipicos para las variables charges, age y bmi. La variable clase es la que presenta mas valores atipicos de acuerdo a los boxplots realizados. La variable age no posee outliers. \n",
                "\n",
                "- La variable charges tiene como limite superior para determinar los valores outliers, un valor de 34524.78, de acuerdo a este parametro se tendrian que eliminar 132 datos, de los cuales, 129 pertenecen a personas que son fumadores, dado la relacion que existe entre las variables charges y smoker, estos valores pueden ser ajustados a la realidad, por lo cual, no voy a eliminar ninguno.\n",
                "\n",
                "- Para bmi no se eliminaran datos, solo existen 8 valores por encima del limite superior.\n"
            ]
        },
        {
            "cell_type": "markdown",
            "metadata": {},
            "source": [
                "### Graficos BoxPlots "
            ]
        },
        {
            "cell_type": "code",
            "execution_count": 30,
            "metadata": {},
            "outputs": [
                {
                    "data": {
                        "image/png": "[encoded data removed]",
                        "text/plain": [
                            "<Figure size 1500x1000 with 4 Axes>"
                        ]
                    },
                    "metadata": {},
                    "output_type": "display_data"
                }
            ],
            "source": [
                "fig, axis = plt.subplots(2,2, figsize = (15, 10))\n",
                "\n",
                "# Crear un histograma múltiple\n",
                "sns.boxplot(ax = axis[0,0], data = data_i, x = \"charges\")\n",
                "sns.boxplot(ax = axis[0,1], data = data_i, x = \"age\")\n",
                "sns.boxplot(ax = axis[1,0], data = data_i, x = \"bmi\")\n",
                "\n",
                "# Ajustar el layout\n",
                "plt.tight_layout()\n",
                "# Mostrar el plot\n",
                "plt.show()\n",
                "\n"
            ]
        },
        {
            "cell_type": "code",
            "execution_count": 31,
            "metadata": {},
            "outputs": [
                {
                    "name": "stdout",
                    "output_type": "stream",
                    "text": [
                        "Los límites superior e inferior para la búsqueda de outliers son 34524.78 y -13120.72, con un rango intercuartílico de 11911.37\n"
                    ]
                }
            ],
            "source": [
                "d_charges=data_i['charges'].describe()\n",
                "charges_iqr=d_charges['75%']-d_charges['25%']\n",
                "p_lim_sup=d_charges['75%']+1.5*charges_iqr\n",
                "p_lim_inf=d_charges['25%']-1.5*charges_iqr\n",
                "print(f\"Los límites superior e inferior para la búsqueda de outliers son {round(p_lim_sup, 2)} y {round(p_lim_inf, 2)}, con un rango intercuartílico de {round(charges_iqr, 2)}\")"
            ]
        },
        {
            "cell_type": "code",
            "execution_count": 32,
            "metadata": {},
            "outputs": [],
            "source": [
                "#data_i=data_i[data_i.charges<=50000]"
            ]
        },
        {
            "cell_type": "code",
            "execution_count": 33,
            "metadata": {},
            "outputs": [
                {
                    "name": "stdout",
                    "output_type": "stream",
                    "text": [
                        "Los límites superior e inferior para la búsqueda de outliers son 47.32 y 13.67, con un rango intercuartílico de 8.41\n"
                    ]
                }
            ],
            "source": [
                "d_bmi=data_i['bmi'].describe()\n",
                "bmi_iqr=d_bmi['75%']-d_bmi['25%']\n",
                "p_lim_sup=d_bmi['75%']+1.5*bmi_iqr\n",
                "p_lim_inf=d_bmi['25%']-1.5*bmi_iqr\n",
                "print(f\"Los límites superior e inferior para la búsqueda de outliers son {round(p_lim_sup, 2)} y {round(p_lim_inf, 2)}, con un rango intercuartílico de {round(bmi_iqr, 2)}\")"
            ]
        },
        {
            "cell_type": "code",
            "execution_count": 34,
            "metadata": {},
            "outputs": [
                {
                    "data": {
                        "text/html": [
                            "<div>\n",
                            "<style scoped>\n",
                            "    .dataframe tbody tr th:only-of-type {\n",
                            "        vertical-align: middle;\n",
                            "    }\n",
                            "\n",
                            "    .dataframe tbody tr th {\n",
                            "        vertical-align: top;\n",
                            "    }\n",
                            "\n",
                            "    .dataframe thead th {\n",
                            "        text-align: right;\n",
                            "    }\n",
                            "</style>\n",
                            "<table border=\"1\" class=\"dataframe\">\n",
                            "  <thead>\n",
                            "    <tr style=\"text-align: right;\">\n",
                            "      <th></th>\n",
                            "      <th>age</th>\n",
                            "      <th>sex</th>\n",
                            "      <th>bmi</th>\n",
                            "      <th>smoker</th>\n",
                            "      <th>charges</th>\n",
                            "      <th>age_range</th>\n",
                            "      <th>bmi_range</th>\n",
                            "      <th>sex_f</th>\n",
                            "      <th>smoker_f</th>\n",
                            "    </tr>\n",
                            "  </thead>\n",
                            "  <tbody>\n",
                            "    <tr>\n",
                            "      <th>116</th>\n",
                            "      <td>58</td>\n",
                            "      <td>male</td>\n",
                            "      <td>49.06</td>\n",
                            "      <td>no</td>\n",
                            "      <td>11381.32540</td>\n",
                            "      <td>50-60 a</td>\n",
                            "      <td>40-50</td>\n",
                            "      <td>1</td>\n",
                            "      <td>1</td>\n",
                            "    </tr>\n",
                            "    <tr>\n",
                            "      <th>286</th>\n",
                            "      <td>46</td>\n",
                            "      <td>female</td>\n",
                            "      <td>48.07</td>\n",
                            "      <td>no</td>\n",
                            "      <td>9432.92530</td>\n",
                            "      <td>40-50 a</td>\n",
                            "      <td>40-50</td>\n",
                            "      <td>0</td>\n",
                            "      <td>1</td>\n",
                            "    </tr>\n",
                            "    <tr>\n",
                            "      <th>401</th>\n",
                            "      <td>47</td>\n",
                            "      <td>male</td>\n",
                            "      <td>47.52</td>\n",
                            "      <td>no</td>\n",
                            "      <td>8083.91980</td>\n",
                            "      <td>40-50 a</td>\n",
                            "      <td>40-50</td>\n",
                            "      <td>1</td>\n",
                            "      <td>1</td>\n",
                            "    </tr>\n",
                            "    <tr>\n",
                            "      <th>543</th>\n",
                            "      <td>54</td>\n",
                            "      <td>female</td>\n",
                            "      <td>47.41</td>\n",
                            "      <td>yes</td>\n",
                            "      <td>63770.42801</td>\n",
                            "      <td>50-60 a</td>\n",
                            "      <td>40-50</td>\n",
                            "      <td>0</td>\n",
                            "      <td>0</td>\n",
                            "    </tr>\n",
                            "    <tr>\n",
                            "      <th>847</th>\n",
                            "      <td>23</td>\n",
                            "      <td>male</td>\n",
                            "      <td>50.38</td>\n",
                            "      <td>no</td>\n",
                            "      <td>2438.05520</td>\n",
                            "      <td>20-30 a</td>\n",
                            "      <td>50-60</td>\n",
                            "      <td>1</td>\n",
                            "      <td>1</td>\n",
                            "    </tr>\n",
                            "    <tr>\n",
                            "      <th>860</th>\n",
                            "      <td>37</td>\n",
                            "      <td>female</td>\n",
                            "      <td>47.60</td>\n",
                            "      <td>yes</td>\n",
                            "      <td>46113.51100</td>\n",
                            "      <td>30-40 a</td>\n",
                            "      <td>40-50</td>\n",
                            "      <td>0</td>\n",
                            "      <td>0</td>\n",
                            "    </tr>\n",
                            "    <tr>\n",
                            "      <th>1047</th>\n",
                            "      <td>22</td>\n",
                            "      <td>male</td>\n",
                            "      <td>52.58</td>\n",
                            "      <td>yes</td>\n",
                            "      <td>44501.39820</td>\n",
                            "      <td>20-30 a</td>\n",
                            "      <td>50-60</td>\n",
                            "      <td>1</td>\n",
                            "      <td>0</td>\n",
                            "    </tr>\n",
                            "    <tr>\n",
                            "      <th>1088</th>\n",
                            "      <td>52</td>\n",
                            "      <td>male</td>\n",
                            "      <td>47.74</td>\n",
                            "      <td>no</td>\n",
                            "      <td>9748.91060</td>\n",
                            "      <td>50-60 a</td>\n",
                            "      <td>40-50</td>\n",
                            "      <td>1</td>\n",
                            "      <td>1</td>\n",
                            "    </tr>\n",
                            "    <tr>\n",
                            "      <th>1317</th>\n",
                            "      <td>18</td>\n",
                            "      <td>male</td>\n",
                            "      <td>53.13</td>\n",
                            "      <td>no</td>\n",
                            "      <td>1163.46270</td>\n",
                            "      <td>18-20 a</td>\n",
                            "      <td>50-60</td>\n",
                            "      <td>1</td>\n",
                            "      <td>1</td>\n",
                            "    </tr>\n",
                            "  </tbody>\n",
                            "</table>\n",
                            "</div>"
                        ],
                        "text/plain": [
                            "      age     sex    bmi smoker      charges age_range bmi_range  sex_f  \\\n",
                            "116    58    male  49.06     no  11381.32540   50-60 a     40-50      1   \n",
                            "286    46  female  48.07     no   9432.92530   40-50 a     40-50      0   \n",
                            "401    47    male  47.52     no   8083.91980   40-50 a     40-50      1   \n",
                            "543    54  female  47.41    yes  63770.42801   50-60 a     40-50      0   \n",
                            "847    23    male  50.38     no   2438.05520   20-30 a     50-60      1   \n",
                            "860    37  female  47.60    yes  46113.51100   30-40 a     40-50      0   \n",
                            "1047   22    male  52.58    yes  44501.39820   20-30 a     50-60      1   \n",
                            "1088   52    male  47.74     no   9748.91060   50-60 a     40-50      1   \n",
                            "1317   18    male  53.13     no   1163.46270   18-20 a     50-60      1   \n",
                            "\n",
                            "      smoker_f  \n",
                            "116          1  \n",
                            "286          1  \n",
                            "401          1  \n",
                            "543          0  \n",
                            "847          1  \n",
                            "860          0  \n",
                            "1047         0  \n",
                            "1088         1  \n",
                            "1317         1  "
                        ]
                    },
                    "execution_count": 34,
                    "metadata": {},
                    "output_type": "execute_result"
                }
            ],
            "source": [
                "data_i.loc[data_i.bmi>47.17]"
            ]
        },
        {
            "cell_type": "code",
            "execution_count": 35,
            "metadata": {},
            "outputs": [
                {
                    "data": {
                        "text/plain": [
                            "smoker\n",
                            "yes    136\n",
                            "no       3\n",
                            "Name: count, dtype: int64"
                        ]
                    },
                    "execution_count": 35,
                    "metadata": {},
                    "output_type": "execute_result"
                }
            ],
            "source": [
                "data_i.loc[data_i.charges>34525]['smoker'].value_counts()"
            ]
        },
        {
            "cell_type": "markdown",
            "metadata": {},
            "source": [
                "### Split Data Train y Test"
            ]
        },
        {
            "cell_type": "code",
            "execution_count": 36,
            "metadata": {},
            "outputs": [
                {
                    "data": {
                        "text/html": [
                            "<div>\n",
                            "<style scoped>\n",
                            "    .dataframe tbody tr th:only-of-type {\n",
                            "        vertical-align: middle;\n",
                            "    }\n",
                            "\n",
                            "    .dataframe tbody tr th {\n",
                            "        vertical-align: top;\n",
                            "    }\n",
                            "\n",
                            "    .dataframe thead th {\n",
                            "        text-align: right;\n",
                            "    }\n",
                            "</style>\n",
                            "<table border=\"1\" class=\"dataframe\">\n",
                            "  <thead>\n",
                            "    <tr style=\"text-align: right;\">\n",
                            "      <th></th>\n",
                            "      <th>age</th>\n",
                            "      <th>bmi</th>\n",
                            "      <th>smoker_f</th>\n",
                            "    </tr>\n",
                            "  </thead>\n",
                            "  <tbody>\n",
                            "    <tr>\n",
                            "      <th>1114</th>\n",
                            "      <td>23</td>\n",
                            "      <td>24.510</td>\n",
                            "      <td>1</td>\n",
                            "    </tr>\n",
                            "    <tr>\n",
                            "      <th>968</th>\n",
                            "      <td>21</td>\n",
                            "      <td>25.745</td>\n",
                            "      <td>1</td>\n",
                            "    </tr>\n",
                            "    <tr>\n",
                            "      <th>599</th>\n",
                            "      <td>52</td>\n",
                            "      <td>37.525</td>\n",
                            "      <td>1</td>\n",
                            "    </tr>\n",
                            "    <tr>\n",
                            "      <th>170</th>\n",
                            "      <td>63</td>\n",
                            "      <td>41.470</td>\n",
                            "      <td>1</td>\n",
                            "    </tr>\n",
                            "    <tr>\n",
                            "      <th>275</th>\n",
                            "      <td>47</td>\n",
                            "      <td>26.600</td>\n",
                            "      <td>1</td>\n",
                            "    </tr>\n",
                            "  </tbody>\n",
                            "</table>\n",
                            "</div>"
                        ],
                        "text/plain": [
                            "      age     bmi  smoker_f\n",
                            "1114   23  24.510         1\n",
                            "968    21  25.745         1\n",
                            "599    52  37.525         1\n",
                            "170    63  41.470         1\n",
                            "275    47  26.600         1"
                        ]
                    },
                    "execution_count": 36,
                    "metadata": {},
                    "output_type": "execute_result"
                }
            ],
            "source": [
                "from sklearn.model_selection import train_test_split\n",
                "\n",
                "num_variables = ['age','bmi','smoker_f']\n",
                "\n",
                "# Dividimos el conjunto de datos en muestras de train y test\n",
                "X = data_i.drop(\"charges\", axis = 1)[num_variables]\n",
                "y = data_i[\"charges\"]\n",
                "\n",
                "X_train, X_test, y_train, y_test = train_test_split(X, y, test_size = 0.2, random_state = 42)\n",
                "\n",
                "X_train.head()"
            ]
        },
        {
            "cell_type": "markdown",
            "metadata": {},
            "source": [
                "### Escalado de Data Train y Test"
            ]
        },
        {
            "cell_type": "code",
            "execution_count": 37,
            "metadata": {},
            "outputs": [
                {
                    "data": {
                        "text/html": [
                            "<div>\n",
                            "<style scoped>\n",
                            "    .dataframe tbody tr th:only-of-type {\n",
                            "        vertical-align: middle;\n",
                            "    }\n",
                            "\n",
                            "    .dataframe tbody tr th {\n",
                            "        vertical-align: top;\n",
                            "    }\n",
                            "\n",
                            "    .dataframe thead th {\n",
                            "        text-align: right;\n",
                            "    }\n",
                            "</style>\n",
                            "<table border=\"1\" class=\"dataframe\">\n",
                            "  <thead>\n",
                            "    <tr style=\"text-align: right;\">\n",
                            "      <th></th>\n",
                            "      <th>age</th>\n",
                            "      <th>bmi</th>\n",
                            "      <th>smoker_f</th>\n",
                            "    </tr>\n",
                            "  </thead>\n",
                            "  <tbody>\n",
                            "    <tr>\n",
                            "      <th>1114</th>\n",
                            "      <td>0.108696</td>\n",
                            "      <td>0.230024</td>\n",
                            "      <td>1.0</td>\n",
                            "    </tr>\n",
                            "    <tr>\n",
                            "      <th>968</th>\n",
                            "      <td>0.065217</td>\n",
                            "      <td>0.263250</td>\n",
                            "      <td>1.0</td>\n",
                            "    </tr>\n",
                            "    <tr>\n",
                            "      <th>599</th>\n",
                            "      <td>0.739130</td>\n",
                            "      <td>0.580172</td>\n",
                            "      <td>1.0</td>\n",
                            "    </tr>\n",
                            "    <tr>\n",
                            "      <th>170</th>\n",
                            "      <td>0.978261</td>\n",
                            "      <td>0.686306</td>\n",
                            "      <td>1.0</td>\n",
                            "    </tr>\n",
                            "    <tr>\n",
                            "      <th>275</th>\n",
                            "      <td>0.630435</td>\n",
                            "      <td>0.286252</td>\n",
                            "      <td>1.0</td>\n",
                            "    </tr>\n",
                            "  </tbody>\n",
                            "</table>\n",
                            "</div>"
                        ],
                        "text/plain": [
                            "           age       bmi  smoker_f\n",
                            "1114  0.108696  0.230024       1.0\n",
                            "968   0.065217  0.263250       1.0\n",
                            "599   0.739130  0.580172       1.0\n",
                            "170   0.978261  0.686306       1.0\n",
                            "275   0.630435  0.286252       1.0"
                        ]
                    },
                    "execution_count": 37,
                    "metadata": {},
                    "output_type": "execute_result"
                }
            ],
            "source": [
                "from sklearn.preprocessing import MinMaxScaler\n",
                "\n",
                "scaler = MinMaxScaler()\n",
                "scaler.fit(X_train)\n",
                "\n",
                "X_train_scal = scaler.transform(X_train)\n",
                "X_train_scal = pd.DataFrame(X_train_scal, index = X_train.index, columns = num_variables)\n",
                "\n",
                "X_test_scal = scaler.transform(X_test)\n",
                "X_test_scal = pd.DataFrame(X_test_scal, index = X_test.index, columns = num_variables)\n",
                "\n",
                "X_train_scal.head()"
            ]
        },
        {
            "cell_type": "markdown",
            "metadata": {},
            "source": [
                "## Paso 5. Inicialización y entrenamiento del modelo"
            ]
        },
        {
            "cell_type": "code",
            "execution_count": 38,
            "metadata": {},
            "outputs": [
                {
                    "data": {
                        "text/html": [
                            "<style>#sk-container-id-1 {\n",
                            "  /* Definition of color scheme common for light and dark mode */\n",
                            "  --sklearn-color-text: black;\n",
                            "  --sklearn-color-line: gray;\n",
                            "  /* Definition of color scheme for unfitted estimators */\n",
                            "  --sklearn-color-unfitted-level-0: #fff5e6;\n",
                            "  --sklearn-color-unfitted-level-1: #f6e4d2;\n",
                            "  --sklearn-color-unfitted-level-2: #ffe0b3;\n",
                            "  --sklearn-color-unfitted-level-3: chocolate;\n",
                            "  /* Definition of color scheme for fitted estimators */\n",
                            "  --sklearn-color-fitted-level-0: #f0f8ff;\n",
                            "  --sklearn-color-fitted-level-1: #d4ebff;\n",
                            "  --sklearn-color-fitted-level-2: #b3dbfd;\n",
                            "  --sklearn-color-fitted-level-3: cornflowerblue;\n",
                            "\n",
                            "  /* Specific color for light theme */\n",
                            "  --sklearn-color-text-on-default-background: var(--sg-text-color, var(--theme-code-foreground, var(--jp-content-font-color1, black)));\n",
                            "  --sklearn-color-background: var(--sg-background-color, var(--theme-background, var(--jp-layout-color0, white)));\n",
                            "  --sklearn-color-border-box: var(--sg-text-color, var(--theme-code-foreground, var(--jp-content-font-color1, black)));\n",
                            "  --sklearn-color-icon: #696969;\n",
                            "\n",
                            "  @media (prefers-color-scheme: dark) {\n",
                            "    /* Redefinition of color scheme for dark theme */\n",
                            "    --sklearn-color-text-on-default-background: var(--sg-text-color, var(--theme-code-foreground, var(--jp-content-font-color1, white)));\n",
                            "    --sklearn-color-background: var(--sg-background-color, var(--theme-background, var(--jp-layout-color0, #111)));\n",
                            "    --sklearn-color-border-box: var(--sg-text-color, var(--theme-code-foreground, var(--jp-content-font-color1, white)));\n",
                            "    --sklearn-color-icon: #878787;\n",
                            "  }\n",
                            "}\n",
                            "\n",
                            "#sk-container-id-1 {\n",
                            "  color: var(--sklearn-color-text);\n",
                            "}\n",
                            "\n",
                            "#sk-container-id-1 pre {\n",
                            "  padding: 0;\n",
                            "}\n",
                            "\n",
                            "#sk-container-id-1 input.sk-hidden--visually {\n",
                            "  border: 0;\n",
                            "  clip: rect(1px 1px 1px 1px);\n",
                            "  clip: rect(1px, 1px, 1px, 1px);\n",
                            "  height: 1px;\n",
                            "  margin: -1px;\n",
                            "  overflow: hidden;\n",
                            "  padding: 0;\n",
                            "  position: absolute;\n",
                            "  width: 1px;\n",
                            "}\n",
                            "\n",
                            "#sk-container-id-1 div.sk-dashed-wrapped {\n",
                            "  border: 1px dashed var(--sklearn-color-line);\n",
                            "  margin: 0 0.4em 0.5em 0.4em;\n",
                            "  box-sizing: border-box;\n",
                            "  padding-bottom: 0.4em;\n",
                            "  background-color: var(--sklearn-color-background);\n",
                            "}\n",
                            "\n",
                            "#sk-container-id-1 div.sk-container {\n",
                            "  /* jupyter's `normalize.less` sets `[hidden] { display: none; }`\n",
                            "     but bootstrap.min.css set `[hidden] { display: none !important; }`\n",
                            "     so we also need the `!important` here to be able to override the\n",
                            "     default hidden behavior on the sphinx rendered scikit-learn.org.\n",
                            "     See: https://github.com/scikit-learn/scikit-learn/issues/21755 */\n",
                            "  display: inline-block !important;\n",
                            "  position: relative;\n",
                            "}\n",
                            "\n",
                            "#sk-container-id-1 div.sk-text-repr-fallback {\n",
                            "  display: none;\n",
                            "}\n",
                            "\n",
                            "div.sk-parallel-item,\n",
                            "div.sk-serial,\n",
                            "div.sk-item {\n",
                            "  /* draw centered vertical line to link estimators */\n",
                            "  background-image: linear-gradient(var(--sklearn-color-text-on-default-background), var(--sklearn-color-text-on-default-background));\n",
                            "  background-size: 2px 100%;\n",
                            "  background-repeat: no-repeat;\n",
                            "  background-position: center center;\n",
                            "}\n",
                            "\n",
                            "/* Parallel-specific style estimator block */\n",
                            "\n",
                            "#sk-container-id-1 div.sk-parallel-item::after {\n",
                            "  content: \"\";\n",
                            "  width: 100%;\n",
                            "  border-bottom: 2px solid var(--sklearn-color-text-on-default-background);\n",
                            "  flex-grow: 1;\n",
                            "}\n",
                            "\n",
                            "#sk-container-id-1 div.sk-parallel {\n",
                            "  display: flex;\n",
                            "  align-items: stretch;\n",
                            "  justify-content: center;\n",
                            "  background-color: var(--sklearn-color-background);\n",
                            "  position: relative;\n",
                            "}\n",
                            "\n",
                            "#sk-container-id-1 div.sk-parallel-item {\n",
                            "  display: flex;\n",
                            "  flex-direction: column;\n",
                            "}\n",
                            "\n",
                            "#sk-container-id-1 div.sk-parallel-item:first-child::after {\n",
                            "  align-self: flex-end;\n",
                            "  width: 50%;\n",
                            "}\n",
                            "\n",
                            "#sk-container-id-1 div.sk-parallel-item:last-child::after {\n",
                            "  align-self: flex-start;\n",
                            "  width: 50%;\n",
                            "}\n",
                            "\n",
                            "#sk-container-id-1 div.sk-parallel-item:only-child::after {\n",
                            "  width: 0;\n",
                            "}\n",
                            "\n",
                            "/* Serial-specific style estimator block */\n",
                            "\n",
                            "#sk-container-id-1 div.sk-serial {\n",
                            "  display: flex;\n",
                            "  flex-direction: column;\n",
                            "  align-items: center;\n",
                            "  background-color: var(--sklearn-color-background);\n",
                            "  padding-right: 1em;\n",
                            "  padding-left: 1em;\n",
                            "}\n",
                            "\n",
                            "\n",
                            "/* Toggleable style: style used for estimator/Pipeline/ColumnTransformer box that is\n",
                            "clickable and can be expanded/collapsed.\n",
                            "- Pipeline and ColumnTransformer use this feature and define the default style\n",
                            "- Estimators will overwrite some part of the style using the `sk-estimator` class\n",
                            "*/\n",
                            "\n",
                            "/* Pipeline and ColumnTransformer style (default) */\n",
                            "\n",
                            "#sk-container-id-1 div.sk-toggleable {\n",
                            "  /* Default theme specific background. It is overwritten whether we have a\n",
                            "  specific estimator or a Pipeline/ColumnTransformer */\n",
                            "  background-color: var(--sklearn-color-background);\n",
                            "}\n",
                            "\n",
                            "/* Toggleable label */\n",
                            "#sk-container-id-1 label.sk-toggleable__label {\n",
                            "  cursor: pointer;\n",
                            "  display: block;\n",
                            "  width: 100%;\n",
                            "  margin-bottom: 0;\n",
                            "  padding: 0.5em;\n",
                            "  box-sizing: border-box;\n",
                            "  text-align: center;\n",
                            "}\n",
                            "\n",
                            "#sk-container-id-1 label.sk-toggleable__label-arrow:before {\n",
                            "  /* Arrow on the left of the label */\n",
                            "  content: \"▸\";\n",
                            "  float: left;\n",
                            "  margin-right: 0.25em;\n",
                            "  color: var(--sklearn-color-icon);\n",
                            "}\n",
                            "\n",
                            "#sk-container-id-1 label.sk-toggleable__label-arrow:hover:before {\n",
                            "  color: var(--sklearn-color-text);\n",
                            "}\n",
                            "\n",
                            "/* Toggleable content - dropdown */\n",
                            "\n",
                            "#sk-container-id-1 div.sk-toggleable__content {\n",
                            "  max-height: 0;\n",
                            "  max-width: 0;\n",
                            "  overflow: hidden;\n",
                            "  text-align: left;\n",
                            "  /* unfitted */\n",
                            "  background-color: var(--sklearn-color-unfitted-level-0);\n",
                            "}\n",
                            "\n",
                            "#sk-container-id-1 div.sk-toggleable__content.fitted {\n",
                            "  /* fitted */\n",
                            "  background-color: var(--sklearn-color-fitted-level-0);\n",
                            "}\n",
                            "\n",
                            "#sk-container-id-1 div.sk-toggleable__content pre {\n",
                            "  margin: 0.2em;\n",
                            "  border-radius: 0.25em;\n",
                            "  color: var(--sklearn-color-text);\n",
                            "  /* unfitted */\n",
                            "  background-color: var(--sklearn-color-unfitted-level-0);\n",
                            "}\n",
                            "\n",
                            "#sk-container-id-1 div.sk-toggleable__content.fitted pre {\n",
                            "  /* unfitted */\n",
                            "  background-color: var(--sklearn-color-fitted-level-0);\n",
                            "}\n",
                            "\n",
                            "#sk-container-id-1 input.sk-toggleable__control:checked~div.sk-toggleable__content {\n",
                            "  /* Expand drop-down */\n",
                            "  max-height: 200px;\n",
                            "  max-width: 100%;\n",
                            "  overflow: auto;\n",
                            "}\n",
                            "\n",
                            "#sk-container-id-1 input.sk-toggleable__control:checked~label.sk-toggleable__label-arrow:before {\n",
                            "  content: \"▾\";\n",
                            "}\n",
                            "\n",
                            "/* Pipeline/ColumnTransformer-specific style */\n",
                            "\n",
                            "#sk-container-id-1 div.sk-label input.sk-toggleable__control:checked~label.sk-toggleable__label {\n",
                            "  color: var(--sklearn-color-text);\n",
                            "  background-color: var(--sklearn-color-unfitted-level-2);\n",
                            "}\n",
                            "\n",
                            "#sk-container-id-1 div.sk-label.fitted input.sk-toggleable__control:checked~label.sk-toggleable__label {\n",
                            "  background-color: var(--sklearn-color-fitted-level-2);\n",
                            "}\n",
                            "\n",
                            "/* Estimator-specific style */\n",
                            "\n",
                            "/* Colorize estimator box */\n",
                            "#sk-container-id-1 div.sk-estimator input.sk-toggleable__control:checked~label.sk-toggleable__label {\n",
                            "  /* unfitted */\n",
                            "  background-color: var(--sklearn-color-unfitted-level-2);\n",
                            "}\n",
                            "\n",
                            "#sk-container-id-1 div.sk-estimator.fitted input.sk-toggleable__control:checked~label.sk-toggleable__label {\n",
                            "  /* fitted */\n",
                            "  background-color: var(--sklearn-color-fitted-level-2);\n",
                            "}\n",
                            "\n",
                            "#sk-container-id-1 div.sk-label label.sk-toggleable__label,\n",
                            "#sk-container-id-1 div.sk-label label {\n",
                            "  /* The background is the default theme color */\n",
                            "  color: var(--sklearn-color-text-on-default-background);\n",
                            "}\n",
                            "\n",
                            "/* On hover, darken the color of the background */\n",
                            "#sk-container-id-1 div.sk-label:hover label.sk-toggleable__label {\n",
                            "  color: var(--sklearn-color-text);\n",
                            "  background-color: var(--sklearn-color-unfitted-level-2);\n",
                            "}\n",
                            "\n",
                            "/* Label box, darken color on hover, fitted */\n",
                            "#sk-container-id-1 div.sk-label.fitted:hover label.sk-toggleable__label.fitted {\n",
                            "  color: var(--sklearn-color-text);\n",
                            "  background-color: var(--sklearn-color-fitted-level-2);\n",
                            "}\n",
                            "\n",
                            "/* Estimator label */\n",
                            "\n",
                            "#sk-container-id-1 div.sk-label label {\n",
                            "  font-family: monospace;\n",
                            "  font-weight: bold;\n",
                            "  display: inline-block;\n",
                            "  line-height: 1.2em;\n",
                            "}\n",
                            "\n",
                            "#sk-container-id-1 div.sk-label-container {\n",
                            "  text-align: center;\n",
                            "}\n",
                            "\n",
                            "/* Estimator-specific */\n",
                            "#sk-container-id-1 div.sk-estimator {\n",
                            "  font-family: monospace;\n",
                            "  border: 1px dotted var(--sklearn-color-border-box);\n",
                            "  border-radius: 0.25em;\n",
                            "  box-sizing: border-box;\n",
                            "  margin-bottom: 0.5em;\n",
                            "  /* unfitted */\n",
                            "  background-color: var(--sklearn-color-unfitted-level-0);\n",
                            "}\n",
                            "\n",
                            "#sk-container-id-1 div.sk-estimator.fitted {\n",
                            "  /* fitted */\n",
                            "  background-color: var(--sklearn-color-fitted-level-0);\n",
                            "}\n",
                            "\n",
                            "/* on hover */\n",
                            "#sk-container-id-1 div.sk-estimator:hover {\n",
                            "  /* unfitted */\n",
                            "  background-color: var(--sklearn-color-unfitted-level-2);\n",
                            "}\n",
                            "\n",
                            "#sk-container-id-1 div.sk-estimator.fitted:hover {\n",
                            "  /* fitted */\n",
                            "  background-color: var(--sklearn-color-fitted-level-2);\n",
                            "}\n",
                            "\n",
                            "/* Specification for estimator info (e.g. \"i\" and \"?\") */\n",
                            "\n",
                            "/* Common style for \"i\" and \"?\" */\n",
                            "\n",
                            ".sk-estimator-doc-link,\n",
                            "a:link.sk-estimator-doc-link,\n",
                            "a:visited.sk-estimator-doc-link {\n",
                            "  float: right;\n",
                            "  font-size: smaller;\n",
                            "  line-height: 1em;\n",
                            "  font-family: monospace;\n",
                            "  background-color: var(--sklearn-color-background);\n",
                            "  border-radius: 1em;\n",
                            "  height: 1em;\n",
                            "  width: 1em;\n",
                            "  text-decoration: none !important;\n",
                            "  margin-left: 1ex;\n",
                            "  /* unfitted */\n",
                            "  border: var(--sklearn-color-unfitted-level-1) 1pt solid;\n",
                            "  color: var(--sklearn-color-unfitted-level-1);\n",
                            "}\n",
                            "\n",
                            ".sk-estimator-doc-link.fitted,\n",
                            "a:link.sk-estimator-doc-link.fitted,\n",
                            "a:visited.sk-estimator-doc-link.fitted {\n",
                            "  /* fitted */\n",
                            "  border: var(--sklearn-color-fitted-level-1) 1pt solid;\n",
                            "  color: var(--sklearn-color-fitted-level-1);\n",
                            "}\n",
                            "\n",
                            "/* On hover */\n",
                            "div.sk-estimator:hover .sk-estimator-doc-link:hover,\n",
                            ".sk-estimator-doc-link:hover,\n",
                            "div.sk-label-container:hover .sk-estimator-doc-link:hover,\n",
                            ".sk-estimator-doc-link:hover {\n",
                            "  /* unfitted */\n",
                            "  background-color: var(--sklearn-color-unfitted-level-3);\n",
                            "  color: var(--sklearn-color-background);\n",
                            "  text-decoration: none;\n",
                            "}\n",
                            "\n",
                            "div.sk-estimator.fitted:hover .sk-estimator-doc-link.fitted:hover,\n",
                            ".sk-estimator-doc-link.fitted:hover,\n",
                            "div.sk-label-container:hover .sk-estimator-doc-link.fitted:hover,\n",
                            ".sk-estimator-doc-link.fitted:hover {\n",
                            "  /* fitted */\n",
                            "  background-color: var(--sklearn-color-fitted-level-3);\n",
                            "  color: var(--sklearn-color-background);\n",
                            "  text-decoration: none;\n",
                            "}\n",
                            "\n",
                            "/* Span, style for the box shown on hovering the info icon */\n",
                            ".sk-estimator-doc-link span {\n",
                            "  display: none;\n",
                            "  z-index: 9999;\n",
                            "  position: relative;\n",
                            "  font-weight: normal;\n",
                            "  right: .2ex;\n",
                            "  padding: .5ex;\n",
                            "  margin: .5ex;\n",
                            "  width: min-content;\n",
                            "  min-width: 20ex;\n",
                            "  max-width: 50ex;\n",
                            "  color: var(--sklearn-color-text);\n",
                            "  box-shadow: 2pt 2pt 4pt #999;\n",
                            "  /* unfitted */\n",
                            "  background: var(--sklearn-color-unfitted-level-0);\n",
                            "  border: .5pt solid var(--sklearn-color-unfitted-level-3);\n",
                            "}\n",
                            "\n",
                            ".sk-estimator-doc-link.fitted span {\n",
                            "  /* fitted */\n",
                            "  background: var(--sklearn-color-fitted-level-0);\n",
                            "  border: var(--sklearn-color-fitted-level-3);\n",
                            "}\n",
                            "\n",
                            ".sk-estimator-doc-link:hover span {\n",
                            "  display: block;\n",
                            "}\n",
                            "\n",
                            "/* \"?\"-specific style due to the `<a>` HTML tag */\n",
                            "\n",
                            "#sk-container-id-1 a.estimator_doc_link {\n",
                            "  float: right;\n",
                            "  font-size: 1rem;\n",
                            "  line-height: 1em;\n",
                            "  font-family: monospace;\n",
                            "  background-color: var(--sklearn-color-background);\n",
                            "  border-radius: 1rem;\n",
                            "  height: 1rem;\n",
                            "  width: 1rem;\n",
                            "  text-decoration: none;\n",
                            "  /* unfitted */\n",
                            "  color: var(--sklearn-color-unfitted-level-1);\n",
                            "  border: var(--sklearn-color-unfitted-level-1) 1pt solid;\n",
                            "}\n",
                            "\n",
                            "#sk-container-id-1 a.estimator_doc_link.fitted {\n",
                            "  /* fitted */\n",
                            "  border: var(--sklearn-color-fitted-level-1) 1pt solid;\n",
                            "  color: var(--sklearn-color-fitted-level-1);\n",
                            "}\n",
                            "\n",
                            "/* On hover */\n",
                            "#sk-container-id-1 a.estimator_doc_link:hover {\n",
                            "  /* unfitted */\n",
                            "  background-color: var(--sklearn-color-unfitted-level-3);\n",
                            "  color: var(--sklearn-color-background);\n",
                            "  text-decoration: none;\n",
                            "}\n",
                            "\n",
                            "#sk-container-id-1 a.estimator_doc_link.fitted:hover {\n",
                            "  /* fitted */\n",
                            "  background-color: var(--sklearn-color-fitted-level-3);\n",
                            "}\n",
                            "</style><div id=\"sk-container-id-1\" class=\"sk-top-container\"><div class=\"sk-text-repr-fallback\"><pre>LinearRegression()</pre><b>In a Jupyter environment, please rerun this cell to show the HTML representation or trust the notebook. <br />On GitHub, the HTML representation is unable to render, please try loading this page with nbviewer.org.</b></div><div class=\"sk-container\" hidden><div class=\"sk-item\"><div class=\"sk-estimator fitted sk-toggleable\"><input class=\"sk-toggleable__control sk-hidden--visually\" id=\"sk-estimator-id-1\" type=\"checkbox\" checked><label for=\"sk-estimator-id-1\" class=\"sk-toggleable__label fitted sk-toggleable__label-arrow fitted\">&nbsp;&nbsp;LinearRegression<a class=\"sk-estimator-doc-link fitted\" rel=\"noreferrer\" target=\"_blank\" href=\"https://scikit-learn.org/1.5/modules/generated/sklearn.linear_model.LinearRegression.html\">?<span>Documentation for LinearRegression</span></a><span class=\"sk-estimator-doc-link fitted\">i<span>Fitted</span></span></label><div class=\"sk-toggleable__content fitted\"><pre>LinearRegression()</pre></div> </div></div></div></div>"
                        ],
                        "text/plain": [
                            "LinearRegression()"
                        ]
                    },
                    "execution_count": 38,
                    "metadata": {},
                    "output_type": "execute_result"
                }
            ],
            "source": [
                "model = LinearRegression()\n",
                "model.fit(X_train_scal, y_train)"
            ]
        },
        {
            "cell_type": "code",
            "execution_count": 39,
            "metadata": {},
            "outputs": [
                {
                    "name": "stdout",
                    "output_type": "stream",
                    "text": [
                        "Intercepto (a): 21701.79391257017\n",
                        "Coeficientes (b1, b2, b3): [ 11586.30415359  11329.51105637 -23074.26173498]\n"
                    ]
                }
            ],
            "source": [
                "print(f\"Intercepto (a): {model.intercept_}\")\n",
                "print(f\"Coeficientes (b1, b2, b3): {model.coef_}\")"
            ]
        },
        {
            "cell_type": "markdown",
            "metadata": {},
            "source": [
                "## Paso 6: Predicción del modelo"
            ]
        },
        {
            "cell_type": "code",
            "execution_count": 40,
            "metadata": {},
            "outputs": [
                {
                    "data": {
                        "text/plain": [
                            "array([ 8433.67443577,  4336.46678013, 13165.0382606 , 30593.69534864,\n",
                            "        8738.64384303, 13004.1887831 , 29273.63576136,  2177.09021482,\n",
                            "       10922.95093736, 10315.83022735, 11021.84491859, 33740.33309282,\n",
                            "       30613.92158231, 18004.87150727,  9656.23179762,  9311.37354392,\n",
                            "        4325.12010919, 32099.96630635,  3001.71338943,  5552.62898392,\n",
                            "        4325.12010919, 29913.00795743, 14580.01800456, 30752.45719245,\n",
                            "       31444.92261851,  4769.02189756, 35187.05259131, 37413.46842278,\n",
                            "       10952.8675722 , 12177.75978526,  6505.9651105 , 13121.95183512,\n",
                            "         870.87899962, 12471.87695664, 40355.37672202, 12499.04467281,\n",
                            "        2732.11267963,  2866.20850841, 32023.18474965,  9365.1280589 ,\n",
                            "        6903.0538664 , 29243.81679061, 34097.79751626, 11919.91981386,\n",
                            "        6896.22734444,  4145.55111435,  6040.33037213,  9173.38425823,\n",
                            "        4186.69945959,  8909.59778913,  6340.1295272 , 12053.6361681 ,\n",
                            "       30836.41015271,  4425.70495311, 10719.84316929,  9666.05445578,\n",
                            "       10530.02015238,  2388.64618173, 31511.97918113,  8879.94566829,\n",
                            "       14211.20691017,  8472.07386235, 11998.05853343,  1725.85017296,\n",
                            "       15951.34770214,  9817.6103031 , 10093.34165695, 31607.56062279,\n",
                            "       25532.05211301, 16080.45742511,  7915.22827784,  2942.01237675,\n",
                            "        6853.00866197,  -356.23310413, 11913.95601971,  -315.91289378,\n",
                            "       17821.98997286,  8437.71744615,  8063.3393286 , 13057.51193418,\n",
                            "        5353.67918676, 16576.19294469, 15605.66131355, 10822.36609344,\n",
                            "       36626.79601439, 13142.44258279,  4545.67059936,  2714.93447154,\n",
                            "        6601.99521252,  4946.63551571, 14433.69548057, 27069.76371833,\n",
                            "        3688.34727834,  3997.87142749,  2823.55344684, 36048.10251934,\n",
                            "       15218.71161918,  9264.54321498,  5063.57043284,  7889.46961392,\n",
                            "       14790.03266221, 14337.55041802, 32626.69381319, 13734.32316493,\n",
                            "       31514.33132881,   645.73917464, 30596.46156376, 25426.19935283,\n",
                            "       13303.85568118,  6304.92767965,  7936.44949632, 12119.41593546,\n",
                            "        7927.58723005,  8602.31082711,  6810.08908641,  6204.36013219,\n",
                            "        1861.90137843,  3921.95259861,  7796.53942685,  8997.9732343 ,\n",
                            "       36885.61367413,  8283.79215469, 11912.44930338,  8505.60214366,\n",
                            "        8989.80684593,  9370.67778561,  2810.79772364, 13188.99110128,\n",
                            "       30586.22483816, 39662.6294855 , 36528.43106115, 12232.90605603,\n",
                            "        3371.63442915, 10393.96894692,  9397.84550177,  3318.44353507,\n",
                            "       35257.98531439, 29553.60545375, 25891.71913067,  5634.37934996,\n",
                            "        6372.26605272,  4725.37185119, 37215.92767786, 10590.6988534 ,\n",
                            "        6302.46057144,  9049.80696551, 10482.94260591,  8693.73429786,\n",
                            "       35306.47191312, 14632.64527774,  9407.53590294,  5469.07279464,\n",
                            "        7341.25637461, 17449.84904246,  6915.07911878, 27181.03394822,\n",
                            "       36131.39419463, 15467.27525687, 10807.67229001, 11639.08739366,\n",
                            "       12791.3733174 ,  4348.50932897, 13286.39566263, 14030.52796999,\n",
                            "       36157.96369698, 32941.4858786 , 12233.86644792, 25521.79809094,\n",
                            "        2678.2086112 ,   686.19164198,  4942.32799134,  5698.9515079 ,\n",
                            "        5298.53291599, 10778.28468316,  9412.65426574, 25778.2290101 ,\n",
                            "        2565.29940799, 11478.23791616,  7032.2785499 , 10700.99139495,\n",
                            "       14438.68158638,  5437.78170048, 10373.4609028 , 10651.37755442,\n",
                            "       32368.3248138 , 11508.56861844,  6330.43912604,  4989.30787374,\n",
                            "         877.38911821, 31175.86823316,  8121.98228531, 32755.82083261,\n",
                            "       12713.23459784,  6308.25751568,  1783.76265886,  2949.63244069,\n",
                            "       32368.3248138 ,  4663.71546183, 12572.46180056, 16456.88858342,\n",
                            "       26818.31890498, 26647.89398687,  7416.34706861, 13140.78631301,\n",
                            "       27652.9142912 ,  8064.74838085,  9632.80798492,  9996.35116305,\n",
                            "        3593.31216112, 33576.03881877, 31272.27780971,  8662.55816423,\n",
                            "        6157.79431724,  7073.16238115, 11818.48953859,  5430.72525744,\n",
                            "        5406.05924241, 12357.4610371 ,  9872.75657387,  2999.92486265,\n",
                            "        4241.84573036, 36798.06636386, 36763.70994766, 13152.13298395,\n",
                            "       11228.0180087 , 38750.15989371, 34597.52415685,  7576.48337175,\n",
                            "       27058.69885784,  4140.28319809, 16680.91846307, 30255.08269954,\n",
                            "        5188.67173835, 10201.67882181,  9174.6091641 , 10127.96258714,\n",
                            "        9930.23769586,  4994.85760045,  6037.1327931 ,  4897.58529609,\n",
                            "        5377.5170669 ,  5246.58422424,  5567.86911179,  9625.86650242,\n",
                            "        1688.16392074,  8462.63067872,  2932.71874658, 10063.68953611,\n",
                            "        2652.44994728,  9238.91680805,  3715.10092706, 12050.00722517,\n",
                            "       13150.47671417, 13538.27183989, 35912.05131388, 23410.21224647,\n",
                            "       10361.81512495,  6332.22765282,  8048.94463209, 11610.13115071,\n",
                            "       28199.48855719, 38867.09481084, 13593.8321781 , 17687.59503718,\n",
                            "       16161.64417025,  5310.46050429, 38732.15355072,  8480.09069727])"
                        ]
                    },
                    "execution_count": 40,
                    "metadata": {},
                    "output_type": "execute_result"
                }
            ],
            "source": [
                "y_pred = model.predict(X_test_scal)\n",
                "y_pred"
            ]
        },
        {
            "cell_type": "code",
            "execution_count": 41,
            "metadata": {},
            "outputs": [
                {
                    "name": "stdout",
                    "output_type": "stream",
                    "text": [
                        "Error cuadrático medio: 35841574.81814755\n",
                        "Coeficiente de determinación: 0.8049502474643171\n"
                    ]
                }
            ],
            "source": [
                "print(f\"Error cuadrático medio: {mean_squared_error(y_test, y_pred)}\")\n",
                "print(f\"Coeficiente de determinación: {r2_score(y_test, y_pred)}\")"
            ]
        },
        {
            "cell_type": "markdown",
            "metadata": {},
            "source": [
                "### Respaldo Data Procesada"
            ]
        },
        {
            "cell_type": "code",
            "execution_count": 48,
            "metadata": {},
            "outputs": [],
            "source": [
                "X_train_scal.to_csv('C:/Users/gfern/OneDrive/Escritorio/4GeeksAcademy/ML-Linear-Regression/data/processed/X_train.csv')\n",
                "X_test_scal.to_csv('C:/Users/gfern/OneDrive/Escritorio/4GeeksAcademy/ML-Linear-Regression/data/processed/X_test.csv')\n",
                "y_train.to_csv('C:/Users/gfern/OneDrive/Escritorio/4GeeksAcademy/ML-Linear-Regression/data/processed/y_train.csv')\n",
                "y_test.to_csv('C:/Users/gfern/OneDrive/Escritorio/4GeeksAcademy/ML-Linear-Regression/data/processed/y_test.csv')              \n"
            ]
        }
    ],
    "metadata": {
        "kernelspec": {
            "display_name": "Python 3.8.13 64-bit ('3.8.13')",
            "language": "python",
            "name": "python3"
        },
        "language_info": {
            "codemirror_mode": {
                "name": "ipython",
                "version": 3
            },
            "file_extension": ".py",
            "mimetype": "text/x-python",
            "name": "python",
            "nbconvert_exporter": "python",
            "pygments_lexer": "ipython3",
            "version": "3.12.4"
        },
        "orig_nbformat": 4,
        "vscode": {
            "interpreter": {
                "hash": "110cc1dee26208153f2972f08a2ad52b6a56238dc66d48e87fb757ef2996db56"
            }
        }
    },
    "nbformat": 4,
    "nbformat_minor": 2
}
